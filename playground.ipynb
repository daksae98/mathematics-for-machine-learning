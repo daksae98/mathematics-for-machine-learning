{
 "cells": [
  {
   "cell_type": "code",
   "execution_count": 14,
   "metadata": {},
   "outputs": [],
   "source": [
    "from abc import *\n",
    "import numpy as np\n",
    "from typing import Any\n",
    "import math\n",
    "import matplotlib.pyplot as plt\n",
    "import sympy as sy"
   ]
  },
  {
   "cell_type": "code",
   "execution_count": 37,
   "metadata": {},
   "outputs": [],
   "source": [
    "class Distribution:\n",
    "\n",
    "   @abstractmethod\n",
    "   def get_sy(self)->Any:\n",
    "      pass\n",
    "   \n",
    "   @abstractmethod\n",
    "   def get_dist(self):\n",
    "      pass\n",
    "   \n",
    "   def plot(self, start=0, end=1):\n",
    "      x_axis = np.linspace(start, end, min(math.ceil((end-start)*100),500))\n",
    "      dist = self.get_dist()\n",
    "      points = np.array([[x,dist(x)] for x in x_axis])\n",
    "\n",
    "      plt.plot(points[:,0], points[:,1])\n",
    "\n",
    "      plt.show()\n",
    "      \n"
   ]
  },
  {
   "cell_type": "code",
   "execution_count": 38,
   "metadata": {},
   "outputs": [],
   "source": [
    "class BinomialDistribution(Distribution):\n",
    "    def __init__(self, N, k) -> None:\n",
    "        self.N = N\n",
    "        self.k = k\n",
    "    \n",
    "    def get_sy(self) -> Any:\n",
    "        theta = sy.symbols('theta')\n",
    "        return sy.factorial(\n",
    "        self.N)/sy.factorial(self.k)/sy.factorial(self.N-self.k)*theta**self.k*(1-theta)**(self.N-self.k)\n",
    "    \n",
    "    def get_dist(self):\n",
    "        def BinomialDistribution(theta):\n",
    "            return math.comb(self.N, self.k)*theta**self.k*(1-theta)**(self.N-self.k)\n",
    "\n",
    "        return BinomialDistribution\n",
    "\n",
    "        "
   ]
  },
  {
   "cell_type": "code",
   "execution_count": 54,
   "metadata": {},
   "outputs": [
    {
     "name": "stdout",
     "output_type": "stream",
     "text": [
      " k        N - k   \n",
      "θ ⋅(1 - θ)     ⋅N!\n",
      "──────────────────\n",
      "   k!⋅(N - k)!    \n",
      "1                      \n",
      "⌠                      \n",
      "⎮  k        N - k      \n",
      "⎮ θ ⋅(1 - θ)     ⋅N!   \n",
      "⎮ ────────────────── dθ\n",
      "⎮    k!⋅(N - k)!       \n",
      "⌡                      \n",
      "0                      \n",
      "0.0439453125000000\n"
     ]
    }
   ],
   "source": [
    "N = sy.symbols('N')\n",
    "k = sy.symbols('k')\n",
    "theta = sy.symbols('theta')\n",
    "binomialFormula = sy.factorial(\n",
    "        N)/sy.factorial(k)/sy.factorial(N-k)*theta**k*(1-theta)**(N-k)\n",
    "I = sy.Integral(binomialFormula, (theta, 0, 1))\n",
    "print(sy.pretty(binomialFormula))\n",
    "print(sy.pretty(I))\n",
    "print(binomialFormula.subs({N:10,k:2,theta:0.5}).evalf())\n"
   ]
  },
  {
   "cell_type": "code",
   "execution_count": 40,
   "metadata": {},
   "outputs": [
    {
     "data": {
      "image/png": "[encoded data removed]",
      "text/plain": [
       "<Figure size 640x480 with 1 Axes>"
      ]
     },
     "metadata": {},
     "output_type": "display_data"
    },
    {
     "data": {
      "text/plain": [
       "<function __main__.BinomialDistribution.get_dist.<locals>.BinomialDistribution(theta)>"
      ]
     },
     "execution_count": 40,
     "metadata": {},
     "output_type": "execute_result"
    }
   ],
   "source": [
    "binom = BinomialDistribution(10,5)\n",
    "\n",
    "binom.plot()"
   ]
  },
  {
   "cell_type": "code",
   "execution_count": 55,
   "metadata": {},
   "outputs": [],
   "source": [
    "def ag(**symbols):\n",
    "    N = sy.symbols('N')\n",
    "    k = sy.symbols('k')\n",
    "    theta = sy.symbols('theta')\n",
    "    binomialFormula = sy.factorial(N)/sy.factorial(k)/sy.factorial(N-k)*theta**k*(1-theta)**(N-k)\n",
    "    print(binomialFormula.subs(symbols).evalf())"
   ]
  },
  {
   "cell_type": "code",
   "execution_count": 56,
   "metadata": {},
   "outputs": [
    {
     "name": "stdout",
     "output_type": "stream",
     "text": [
      "0.0439453125000000\n"
     ]
    }
   ],
   "source": [
    "ag(N=10,k=2,theta=0.5)"
   ]
  },
  {
   "cell_type": "code",
   "execution_count": 1,
   "metadata": {},
   "outputs": [],
   "source": [
    "class Parent:\n",
    "    def it(self):\n",
    "        self.b = 'hi'\n",
    "        "
   ]
  },
  {
   "cell_type": "code",
   "execution_count": 2,
   "metadata": {},
   "outputs": [
    {
     "name": "stdout",
     "output_type": "stream",
     "text": [
      "hi\n"
     ]
    }
   ],
   "source": [
    "class Child(Parent):\n",
    "    def __init__(self) -> None:\n",
    "        super().__init__()\n",
    "        super().it()\n",
    "        print(self.b)\n",
    "\n",
    "c = Child()"
   ]
  },
  {
   "cell_type": "code",
   "execution_count": 8,
   "metadata": {},
   "outputs": [
    {
     "ename": "KeyError",
     "evalue": "'K'",
     "output_type": "error",
     "traceback": [
      "\u001b[0;31m---------------------------------------------------------------------------\u001b[0m",
      "\u001b[0;31mKeyError\u001b[0m                                  Traceback (most recent call last)",
      "Cell \u001b[0;32mIn[8], line 4\u001b[0m\n\u001b[1;32m      1\u001b[0m \u001b[39mdef\u001b[39;00m \u001b[39mhi\u001b[39m(\u001b[39m*\u001b[39m\u001b[39m*\u001b[39mkargs):\n\u001b[1;32m      2\u001b[0m     \u001b[39mprint\u001b[39m(kargs[\u001b[39m'\u001b[39m\u001b[39mK\u001b[39m\u001b[39m'\u001b[39m],)\n\u001b[0;32m----> 4\u001b[0m hi(N\u001b[39m=\u001b[39;49m\u001b[39m'\u001b[39;49m\u001b[39mN\u001b[39;49m\u001b[39m'\u001b[39;49m)\n",
      "Cell \u001b[0;32mIn[8], line 2\u001b[0m, in \u001b[0;36mhi\u001b[0;34m(**kargs)\u001b[0m\n\u001b[1;32m      1\u001b[0m \u001b[39mdef\u001b[39;00m \u001b[39mhi\u001b[39m(\u001b[39m*\u001b[39m\u001b[39m*\u001b[39mkargs):\n\u001b[0;32m----> 2\u001b[0m     \u001b[39mprint\u001b[39m(kargs[\u001b[39m'\u001b[39;49m\u001b[39mK\u001b[39;49m\u001b[39m'\u001b[39;49m],)\n",
      "\u001b[0;31mKeyError\u001b[0m: 'K'"
     ]
    }
   ],
   "source": [
    "def hi(**symbols):\n",
    "    print(symbols['K'],)\n",
    "\n",
    "hi(N='N')"
   ]
  },
  {
   "cell_type": "code",
   "execution_count": 13,
   "metadata": {},
   "outputs": [
    {
     "data": {
      "text/plain": [
       "{'hi': 'bye', 'k': 'z'}"
      ]
     },
     "execution_count": 13,
     "metadata": {},
     "output_type": "execute_result"
    }
   ],
   "source": [
    "def createObj(key: str = 'name', value: str = 'zz',**kargs):\n",
    "    '''\n",
    "    return: {'name': 'zz'}\n",
    "    '''\n",
    "    res = {key: value}\n",
    "    res.update(kargs)\n",
    "    return res\n",
    "\n",
    "createObj('hi','bye',k='z')"
   ]
  },
  {
   "cell_type": "code",
   "execution_count": null,
   "metadata": {},
   "outputs": [],
   "source": []
  }
 ],
 "metadata": {
  "kernelspec": {
   "display_name": "python-study",
   "language": "python",
   "name": "python3"
  },
  "language_info": {
   "codemirror_mode": {
    "name": "ipython",
    "version": 3
   },
   "file_extension": ".py",
   "mimetype": "text/x-python",
   "name": "python",
   "nbconvert_exporter": "python",
   "pygments_lexer": "ipython3",
   "version": "3.10.12"
  },
  "orig_nbformat": 4
 },
 "nbformat": 4,
 "nbformat_minor": 2
}
